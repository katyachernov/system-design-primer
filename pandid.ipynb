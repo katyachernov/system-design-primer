{
  "metadata": {
    "kernelspec": {
      "language": "python",
      "display_name": "Python 3",
      "name": "python3"
    },
    "language_info": {
      "pygments_lexer": "ipython3",
      "nbconvert_exporter": "python",
      "version": "3.6.4",
      "file_extension": ".py",
      "codemirror_mode": {
        "name": "ipython",
        "version": 3
      },
      "name": "python",
      "mimetype": "text/x-python"
    },
    "colab": {
      "name": "pandid",
      "provenance": [],
      "include_colab_link": true
    }
  },
  "nbformat_minor": 0,
  "nbformat": 4,
  "cells": [
    {
      "cell_type": "markdown",
      "metadata": {
        "id": "view-in-github",
        "colab_type": "text"
      },
      "source": [
        "<a href=\"https://colab.research.google.com/github/katyachernov/system-design-primer/blob/master/pandid.ipynb\" target=\"_parent\"><img src=\"https://colab.research.google.com/assets/colab-badge.svg\" alt=\"Open In Colab\"/></a>"
      ]
    },
    {
      "source": [
        "# IMPORTANT: RUN THIS CELL IN ORDER TO IMPORT YOUR KAGGLE DATA SOURCES,\n",
        "# THEN FEEL FREE TO DELETE THIS CELL.\n",
        "# NOTE: THIS NOTEBOOK ENVIRONMENT DIFFERS FROM KAGGLE'S PYTHON\n",
        "# ENVIRONMENT SO THERE MAY BE MISSING LIBRARIES USED BY YOUR\n",
        "# NOTEBOOK.\n",
        "import kagglehub\n",
        "hristohristov21_pid_symbols_path = kagglehub.dataset_download('hristohristov21/pid-symbols')\n",
        "shrekty_pandid_trained_path = kagglehub.dataset_download('shrekty/pandid-trained')\n",
        "\n",
        "print('Data source import complete.')\n"
      ],
      "metadata": {
        "id": "k7A-gB-Ba50Z"
      },
      "cell_type": "code",
      "outputs": [],
      "execution_count": null
    },
    {
      "cell_type": "code",
      "source": [
        "import pandas as pd\n",
        "import numpy as np\n",
        "import torch\n",
        "import torchvision\n",
        "import torchvision.transforms as T\n",
        "from torch.utils.data import Dataset, DataLoader\n",
        "from torchvision.transforms import ToTensor\n",
        "from torchvision.models.detection.faster_rcnn import FastRCNNPredictor\n",
        "import torch.optim as optim\n",
        "import glob\n",
        "import cv2"
      ],
      "metadata": {
        "execution": {
          "iopub.status.busy": "2023-07-12T18:31:51.961972Z",
          "iopub.execute_input": "2023-07-12T18:31:51.962663Z",
          "iopub.status.idle": "2023-07-12T18:31:55.832713Z",
          "shell.execute_reply.started": "2023-07-12T18:31:51.962628Z",
          "shell.execute_reply": "2023-07-12T18:31:55.831587Z"
        },
        "trusted": true,
        "id": "Rm0Uq1gIa50a"
      },
      "execution_count": null,
      "outputs": []
    },
    {
      "cell_type": "code",
      "source": [
        "df = pd.read_csv(\"/kaggle/input/pid-symbols/train (2).txt\", names = [\"path\"]).reset_index(drop = True)\n",
        "len(df)"
      ],
      "metadata": {
        "execution": {
          "iopub.status.busy": "2023-07-12T18:31:55.838537Z",
          "iopub.execute_input": "2023-07-12T18:31:55.841218Z",
          "iopub.status.idle": "2023-07-12T18:31:55.913888Z",
          "shell.execute_reply.started": "2023-07-12T18:31:55.84118Z",
          "shell.execute_reply": "2023-07-12T18:31:55.912837Z"
        },
        "trusted": true,
        "id": "qqcLAPDQa50a"
      },
      "execution_count": null,
      "outputs": []
    },
    {
      "cell_type": "code",
      "source": [
        "df[\"fnames\"] = df[\"path\"].str.split(\"/\").str[2]\n",
        "df[\"fnames\"] = df[\"fnames\"].str.split(\".\").str[0]"
      ],
      "metadata": {
        "execution": {
          "iopub.status.busy": "2023-07-12T18:35:08.521177Z",
          "iopub.execute_input": "2023-07-12T18:35:08.52155Z",
          "iopub.status.idle": "2023-07-12T18:35:08.625128Z",
          "shell.execute_reply.started": "2023-07-12T18:35:08.521519Z",
          "shell.execute_reply": "2023-07-12T18:35:08.623982Z"
        },
        "trusted": true,
        "id": "nVqteUBCa50b"
      },
      "execution_count": null,
      "outputs": []
    },
    {
      "cell_type": "code",
      "source": [
        "df"
      ],
      "metadata": {
        "execution": {
          "iopub.status.busy": "2023-07-12T18:35:09.477702Z",
          "iopub.execute_input": "2023-07-12T18:35:09.478892Z",
          "iopub.status.idle": "2023-07-12T18:35:09.492609Z",
          "shell.execute_reply.started": "2023-07-12T18:35:09.478848Z",
          "shell.execute_reply": "2023-07-12T18:35:09.491247Z"
        },
        "trusted": true,
        "id": "jY5AraHTa50b"
      },
      "execution_count": null,
      "outputs": []
    },
    {
      "cell_type": "code",
      "source": [
        "x = []\n",
        "with open(f'/kaggle/input/pid-symbols/labels (2)/{df.fnames[4289]}.txt') as f:\n",
        "    x.append([line[:-2] for line in f.readlines()])\n",
        ""
      ],
      "metadata": {
        "execution": {
          "iopub.status.busy": "2023-07-12T18:32:22.914851Z",
          "iopub.execute_input": "2023-07-12T18:32:22.915266Z",
          "iopub.status.idle": "2023-07-12T18:32:22.926703Z",
          "shell.execute_reply.started": "2023-07-12T18:32:22.915232Z",
          "shell.execute_reply": "2023-07-12T18:32:22.925611Z"
        },
        "trusted": true,
        "id": "31XVlShna50b"
      },
      "execution_count": null,
      "outputs": []
    },
    {
      "cell_type": "code",
      "source": [
        "x"
      ],
      "metadata": {
        "execution": {
          "iopub.status.busy": "2023-07-12T18:32:23.071229Z",
          "iopub.execute_input": "2023-07-12T18:32:23.071587Z",
          "iopub.status.idle": "2023-07-12T18:32:23.080031Z",
          "shell.execute_reply.started": "2023-07-12T18:32:23.071555Z",
          "shell.execute_reply": "2023-07-12T18:32:23.07885Z"
        },
        "trusted": true,
        "id": "XpyvonBIa50c"
      },
      "execution_count": null,
      "outputs": []
    },
    {
      "cell_type": "code",
      "source": [
        "[i.split(\" \") for i in x[0]]"
      ],
      "metadata": {
        "execution": {
          "iopub.status.busy": "2023-07-12T18:32:25.934908Z",
          "iopub.execute_input": "2023-07-12T18:32:25.935876Z",
          "iopub.status.idle": "2023-07-12T18:32:25.943176Z",
          "shell.execute_reply.started": "2023-07-12T18:32:25.935838Z",
          "shell.execute_reply": "2023-07-12T18:32:25.942069Z"
        },
        "trusted": true,
        "id": "cfFiDUu6a50c"
      },
      "execution_count": null,
      "outputs": []
    },
    {
      "cell_type": "code",
      "source": [
        "x = [[int(float(val)) if float(val) == int(float(val)) else float(val) for val in i.split()]for i in x[0]]\n",
        "x"
      ],
      "metadata": {
        "execution": {
          "iopub.status.busy": "2023-07-12T18:32:26.777294Z",
          "iopub.execute_input": "2023-07-12T18:32:26.777664Z",
          "iopub.status.idle": "2023-07-12T18:32:26.785799Z",
          "shell.execute_reply.started": "2023-07-12T18:32:26.777633Z",
          "shell.execute_reply": "2023-07-12T18:32:26.784766Z"
        },
        "trusted": true,
        "id": "kooe6urXa50d"
      },
      "execution_count": null,
      "outputs": []
    },
    {
      "cell_type": "code",
      "source": [
        "from PIL import Image\n",
        "import numpy as np\n",
        "\n",
        "img = Image.open(f\"/kaggle/input/pid-symbols/images (3)/{df.fnames[4289]}.jpg\")\n",
        "img = img.resize((640,640))\n",
        "print(img.size)\n",
        "img = np.array(img).astype(np.float32)\n",
        "img/=255"
      ],
      "metadata": {
        "execution": {
          "iopub.status.busy": "2023-07-12T18:32:28.836841Z",
          "iopub.execute_input": "2023-07-12T18:32:28.837567Z",
          "iopub.status.idle": "2023-07-12T18:32:28.907163Z",
          "shell.execute_reply.started": "2023-07-12T18:32:28.837529Z",
          "shell.execute_reply": "2023-07-12T18:32:28.905959Z"
        },
        "trusted": true,
        "id": "N0RV5D5Ga50d"
      },
      "execution_count": null,
      "outputs": []
    },
    {
      "cell_type": "code",
      "source": [
        "img.shape[0]"
      ],
      "metadata": {
        "execution": {
          "iopub.status.busy": "2023-07-12T18:32:29.621573Z",
          "iopub.execute_input": "2023-07-12T18:32:29.621924Z",
          "iopub.status.idle": "2023-07-12T18:32:29.628922Z",
          "shell.execute_reply.started": "2023-07-12T18:32:29.621895Z",
          "shell.execute_reply": "2023-07-12T18:32:29.627742Z"
        },
        "trusted": true,
        "id": "89PIGwT-a50d"
      },
      "execution_count": null,
      "outputs": []
    },
    {
      "cell_type": "code",
      "source": [
        "import matplotlib.pyplot as plt\n",
        "import matplotlib.pyplot as plt\n",
        "import matplotlib.patches as patches\n",
        "fig, ax = plt.subplots()\n",
        "for box in x:\n",
        "    s = img.shape\n",
        "    print((box[1] - box[3]/2) * s[0], (box[2] - box[4]/2) * s[1])\n",
        "    bb = patches.Rectangle(\n",
        "        ((box[1] - box[3]/2) * s[0], (box[2] - box[4]/2) * s[1]),\n",
        "        box[3] * s[0],box[4] * s[1],\n",
        "        edgecolor=\"blue\")\n",
        "    ax.add_patch(bb)\n",
        "\n",
        "ax.imshow(img)\n",
        "plt.show()"
      ],
      "metadata": {
        "execution": {
          "iopub.status.busy": "2023-07-12T18:32:30.506409Z",
          "iopub.execute_input": "2023-07-12T18:32:30.506761Z",
          "iopub.status.idle": "2023-07-12T18:32:30.901Z",
          "shell.execute_reply.started": "2023-07-12T18:32:30.506729Z",
          "shell.execute_reply": "2023-07-12T18:32:30.900002Z"
        },
        "trusted": true,
        "id": "uLCFBmZja50d"
      },
      "execution_count": null,
      "outputs": []
    },
    {
      "cell_type": "code",
      "source": [
        "trans = T.Compose([T.ToTensor()])\n",
        "\n",
        "class pidData(Dataset):\n",
        "    def __init__(self, df, img_dir, ann_dir, img_size, trans = None, train = True):\n",
        "        self.df = df\n",
        "        self.transform = trans\n",
        "        self.train = train\n",
        "        self.ann_dir = ann_dir\n",
        "        self.img_dir = img_dir\n",
        "        self.img_size = img_size\n",
        "\n",
        "    def __len__(self):\n",
        "        return len(self.df)\n",
        "\n",
        "    def __getitem__(self, idx):\n",
        "        img = Image.open(f\"{self.img_dir+self.df[idx]}.jpg\").convert(\"RGB\")\n",
        "        img = img.resize((self.img_size, self.img_size))\n",
        "        img = np.array(img).astype(np.float32)\n",
        "        img/=255\n",
        "        if self.transform is not None:\n",
        "            img = self.transform(img)\n",
        "        if (self.train == False):\n",
        "            return img\n",
        "\n",
        "        ann = []\n",
        "        with open(f'{self.ann_dir+self.df[idx]}.txt') as f:\n",
        "            ann.append([line[:-2] for line in f.readlines()])\n",
        "        ann = [[int(float(val)) if float(val) == int(float(val)) else float(val) for val in i.split()]for i in ann[0]]\n",
        "        boxes = []\n",
        "        for i in ann:\n",
        "            if i[3] <= 0 or i[4] <= 0:\n",
        "                continue\n",
        "            tmp = []\n",
        "            tmp.append(float((i[1] - i[3]/2)*self.img_size))\n",
        "            tmp.append(float((i[2] - i[4]/2)*self.img_size))\n",
        "            tmp.append(float((i[1] + i[3]/2)*self.img_size))\n",
        "            tmp.append(float((i[2] + i[4]/2)*self.img_size))\n",
        "            boxes.append(tmp)\n",
        "            tmp = []\n",
        "        target = {}\n",
        "        target[\"boxes\"] = torch.as_tensor(boxes, dtype = torch.float32)\n",
        "        target[\"labels\"] = torch.as_tensor([j[0] for j in ann], dtype=torch.int64)\n",
        "\n",
        "\n",
        "        return img, target"
      ],
      "metadata": {
        "execution": {
          "iopub.status.busy": "2023-07-12T18:32:35.665663Z",
          "iopub.execute_input": "2023-07-12T18:32:35.666128Z",
          "iopub.status.idle": "2023-07-12T18:32:35.68643Z",
          "shell.execute_reply.started": "2023-07-12T18:32:35.666085Z",
          "shell.execute_reply": "2023-07-12T18:32:35.685405Z"
        },
        "trusted": true,
        "id": "6c-uyhiGa50e"
      },
      "execution_count": null,
      "outputs": []
    },
    {
      "cell_type": "code",
      "source": [
        "x = []\n",
        "empty_files = []\n",
        "for i in range(len(df)):\n",
        "    with open(f'/kaggle/input/pid-symbols/labels (2)/{df.fnames[i]}.txt') as f:\n",
        "        x.append([line[:-2] for line in f.readlines()])\n",
        "    if len(x[0]) == 0:\n",
        "        empty_files.append(df.fnames[i])\n",
        "    x = []"
      ],
      "metadata": {
        "execution": {
          "iopub.status.busy": "2023-07-12T18:35:17.321161Z",
          "iopub.execute_input": "2023-07-12T18:35:17.321899Z",
          "iopub.status.idle": "2023-07-12T18:36:30.476936Z",
          "shell.execute_reply.started": "2023-07-12T18:35:17.321866Z",
          "shell.execute_reply": "2023-07-12T18:36:30.475577Z"
        },
        "trusted": true,
        "id": "bRgJZSQda50e"
      },
      "execution_count": null,
      "outputs": []
    },
    {
      "cell_type": "code",
      "source": [
        "df = df[~df['fnames'].isin(empty_files)]"
      ],
      "metadata": {
        "execution": {
          "iopub.status.busy": "2023-07-12T18:36:30.479284Z",
          "iopub.execute_input": "2023-07-12T18:36:30.479643Z",
          "iopub.status.idle": "2023-07-12T18:36:30.49848Z",
          "shell.execute_reply.started": "2023-07-12T18:36:30.479608Z",
          "shell.execute_reply": "2023-07-12T18:36:30.497359Z"
        },
        "trusted": true,
        "id": "UXYa08C0a50e"
      },
      "execution_count": null,
      "outputs": []
    },
    {
      "cell_type": "code",
      "source": [
        "ex = df.sample(5).fnames.values\n",
        "ex"
      ],
      "metadata": {
        "execution": {
          "iopub.status.busy": "2023-07-12T15:03:02.852789Z",
          "iopub.execute_input": "2023-07-12T15:03:02.853207Z",
          "iopub.status.idle": "2023-07-12T15:03:02.861193Z",
          "shell.execute_reply.started": "2023-07-12T15:03:02.853171Z",
          "shell.execute_reply": "2023-07-12T15:03:02.860002Z"
        },
        "trusted": true,
        "id": "jsc-6bBya50e"
      },
      "execution_count": null,
      "outputs": []
    },
    {
      "cell_type": "code",
      "source": [
        "samp = pidData(list(ex), \"/kaggle/input/pid-symbols/images (3)/\", \"/kaggle/input/pid-symbols/labels (2)/\", 320, trans = trans)"
      ],
      "metadata": {
        "execution": {
          "iopub.status.busy": "2023-07-12T15:10:14.821211Z",
          "iopub.execute_input": "2023-07-12T15:10:14.821599Z",
          "iopub.status.idle": "2023-07-12T15:10:14.826842Z",
          "shell.execute_reply.started": "2023-07-12T15:10:14.821566Z",
          "shell.execute_reply": "2023-07-12T15:10:14.825451Z"
        },
        "trusted": true,
        "id": "F8kq1iQ5a50e"
      },
      "execution_count": null,
      "outputs": []
    },
    {
      "cell_type": "code",
      "source": [
        "def custom_collate(batch):\n",
        "    return tuple(zip(*batch))"
      ],
      "metadata": {
        "execution": {
          "iopub.status.busy": "2023-07-12T18:32:53.58994Z",
          "iopub.execute_input": "2023-07-12T18:32:53.590389Z",
          "iopub.status.idle": "2023-07-12T18:32:53.596576Z",
          "shell.execute_reply.started": "2023-07-12T18:32:53.590354Z",
          "shell.execute_reply": "2023-07-12T18:32:53.595516Z"
        },
        "trusted": true,
        "id": "t64S4kG3a50e"
      },
      "execution_count": null,
      "outputs": []
    },
    {
      "cell_type": "code",
      "source": [
        "dl = DataLoader(samp, batch_size=5, collate_fn=custom_collate)"
      ],
      "metadata": {
        "execution": {
          "iopub.status.busy": "2023-07-12T15:25:25.545677Z",
          "iopub.execute_input": "2023-07-12T15:25:25.546046Z",
          "iopub.status.idle": "2023-07-12T15:25:25.551134Z",
          "shell.execute_reply.started": "2023-07-12T15:25:25.546014Z",
          "shell.execute_reply": "2023-07-12T15:25:25.55006Z"
        },
        "trusted": true,
        "id": "-YnWs9D_a50f"
      },
      "execution_count": null,
      "outputs": []
    },
    {
      "cell_type": "code",
      "source": [
        "# batch = next(iter(dl))\n",
        "X, y = next(iter(dl))"
      ],
      "metadata": {
        "execution": {
          "iopub.status.busy": "2023-07-12T15:25:27.908463Z",
          "iopub.execute_input": "2023-07-12T15:25:27.908826Z",
          "iopub.status.idle": "2023-07-12T15:25:28.058045Z",
          "shell.execute_reply.started": "2023-07-12T15:25:27.908797Z",
          "shell.execute_reply": "2023-07-12T15:25:28.05702Z"
        },
        "trusted": true,
        "id": "tMm6rR92a50f"
      },
      "execution_count": null,
      "outputs": []
    },
    {
      "cell_type": "code",
      "source": [
        "X[0].shape, y[0][\"boxes\"].shape, y[0][\"labels\"].shape"
      ],
      "metadata": {
        "execution": {
          "iopub.status.busy": "2023-07-12T15:25:28.907431Z",
          "iopub.execute_input": "2023-07-12T15:25:28.907798Z",
          "iopub.status.idle": "2023-07-12T15:25:28.916338Z",
          "shell.execute_reply.started": "2023-07-12T15:25:28.907769Z",
          "shell.execute_reply": "2023-07-12T15:25:28.915133Z"
        },
        "trusted": true,
        "id": "gr4bel58a50f"
      },
      "execution_count": null,
      "outputs": []
    },
    {
      "cell_type": "code",
      "source": [
        "y[0]"
      ],
      "metadata": {
        "execution": {
          "iopub.status.busy": "2023-07-12T15:25:37.703507Z",
          "iopub.execute_input": "2023-07-12T15:25:37.703882Z",
          "iopub.status.idle": "2023-07-12T15:25:37.713261Z",
          "shell.execute_reply.started": "2023-07-12T15:25:37.703849Z",
          "shell.execute_reply": "2023-07-12T15:25:37.712088Z"
        },
        "trusted": true,
        "id": "0-xsc_B5a50f"
      },
      "execution_count": null,
      "outputs": []
    },
    {
      "cell_type": "code",
      "source": [
        "fig, ax = plt.subplots()\n",
        "image = X[0].permute(1, 2, 0).detach().numpy()\n",
        "image_with_rect = image.copy()\n",
        "\n",
        "for x in y[0]['boxes']:\n",
        "    cv2.rectangle(image_with_rect, (int(x[0].numpy()), int(x[1].numpy())), (int(x[2].numpy()), int(x[3].numpy())), (222, 0, 0), 1)\n",
        "\n",
        "ax.imshow(image_with_rect)\n",
        "plt.show()"
      ],
      "metadata": {
        "execution": {
          "iopub.status.busy": "2023-07-12T15:11:02.043211Z",
          "iopub.execute_input": "2023-07-12T15:11:02.043584Z",
          "iopub.status.idle": "2023-07-12T15:11:02.333533Z",
          "shell.execute_reply.started": "2023-07-12T15:11:02.043553Z",
          "shell.execute_reply": "2023-07-12T15:11:02.332467Z"
        },
        "trusted": true,
        "id": "lk08wjPna50f"
      },
      "execution_count": null,
      "outputs": []
    },
    {
      "cell_type": "code",
      "source": [
        "model = torchvision.models.detection.fasterrcnn_resnet50_fpn(pretrained=True, pretrained_backbone=True)"
      ],
      "metadata": {
        "execution": {
          "iopub.status.busy": "2023-07-12T18:33:11.875894Z",
          "iopub.execute_input": "2023-07-12T18:33:11.876617Z",
          "iopub.status.idle": "2023-07-12T18:33:13.78934Z",
          "shell.execute_reply.started": "2023-07-12T18:33:11.876582Z",
          "shell.execute_reply": "2023-07-12T18:33:13.788235Z"
        },
        "trusted": true,
        "id": "a9iC9MXBa50f"
      },
      "execution_count": null,
      "outputs": []
    },
    {
      "cell_type": "code",
      "source": [
        "train = df.head(500).fnames.values"
      ],
      "metadata": {
        "execution": {
          "iopub.status.busy": "2023-07-12T17:20:28.149408Z",
          "iopub.execute_input": "2023-07-12T17:20:28.150033Z",
          "iopub.status.idle": "2023-07-12T17:20:28.156681Z",
          "shell.execute_reply.started": "2023-07-12T17:20:28.149996Z",
          "shell.execute_reply": "2023-07-12T17:20:28.155592Z"
        },
        "trusted": true,
        "id": "qBURB0rba50f"
      },
      "execution_count": null,
      "outputs": []
    },
    {
      "cell_type": "code",
      "source": [
        "len(train)"
      ],
      "metadata": {
        "execution": {
          "iopub.status.busy": "2023-07-12T17:20:29.064795Z",
          "iopub.execute_input": "2023-07-12T17:20:29.065151Z",
          "iopub.status.idle": "2023-07-12T17:20:29.07162Z",
          "shell.execute_reply.started": "2023-07-12T17:20:29.065121Z",
          "shell.execute_reply": "2023-07-12T17:20:29.070448Z"
        },
        "trusted": true,
        "id": "vtN14Vb4a50f"
      },
      "execution_count": null,
      "outputs": []
    },
    {
      "cell_type": "code",
      "source": [
        "train_ds = pidData(list(train), \"/kaggle/input/pid-symbols/images (3)/\", \"/kaggle/input/pid-symbols/labels (2)/\", 640, trans = trans)\n",
        "train_dl = DataLoader(train_ds, batch_size=5, collate_fn=custom_collate, shuffle=False)"
      ],
      "metadata": {
        "execution": {
          "iopub.status.busy": "2023-07-12T17:20:29.349756Z",
          "iopub.execute_input": "2023-07-12T17:20:29.350371Z",
          "iopub.status.idle": "2023-07-12T17:20:29.355926Z",
          "shell.execute_reply.started": "2023-07-12T17:20:29.350337Z",
          "shell.execute_reply": "2023-07-12T17:20:29.354724Z"
        },
        "trusted": true,
        "id": "x7BLou_Ua50f"
      },
      "execution_count": null,
      "outputs": []
    },
    {
      "cell_type": "code",
      "source": [
        "X, y = next(iter(train_dl))"
      ],
      "metadata": {
        "execution": {
          "iopub.status.busy": "2023-07-12T17:20:29.664838Z",
          "iopub.execute_input": "2023-07-12T17:20:29.665133Z",
          "iopub.status.idle": "2023-07-12T17:20:29.857928Z",
          "shell.execute_reply.started": "2023-07-12T17:20:29.665107Z",
          "shell.execute_reply": "2023-07-12T17:20:29.856888Z"
        },
        "trusted": true,
        "id": "yzJJSBEJa50f"
      },
      "execution_count": null,
      "outputs": []
    },
    {
      "cell_type": "code",
      "source": [
        "X[0].shape, y[0][\"boxes\"].shape, y[0][\"labels\"].shape"
      ],
      "metadata": {
        "execution": {
          "iopub.status.busy": "2023-07-12T17:20:29.993797Z",
          "iopub.execute_input": "2023-07-12T17:20:29.994126Z",
          "iopub.status.idle": "2023-07-12T17:20:30.002531Z",
          "shell.execute_reply.started": "2023-07-12T17:20:29.994093Z",
          "shell.execute_reply": "2023-07-12T17:20:30.000599Z"
        },
        "trusted": true,
        "id": "KXa0zlnla50f"
      },
      "execution_count": null,
      "outputs": []
    },
    {
      "cell_type": "code",
      "source": [
        "num_classes = 33\n",
        "in_features = model.roi_heads.box_predictor.cls_score.in_features\n",
        "model.roi_heads.box_predictor = FastRCNNPredictor(in_features, num_classes)"
      ],
      "metadata": {
        "execution": {
          "iopub.status.busy": "2023-07-12T18:33:21.107666Z",
          "iopub.execute_input": "2023-07-12T18:33:21.108075Z",
          "iopub.status.idle": "2023-07-12T18:33:21.118002Z",
          "shell.execute_reply.started": "2023-07-12T18:33:21.108038Z",
          "shell.execute_reply": "2023-07-12T18:33:21.116863Z"
        },
        "trusted": true,
        "id": "zSPy74eHa50g"
      },
      "execution_count": null,
      "outputs": []
    },
    {
      "cell_type": "code",
      "source": [
        "device = torch.device('cuda' if torch.cuda.is_available() else 'cpu')"
      ],
      "metadata": {
        "execution": {
          "iopub.status.busy": "2023-07-12T18:33:52.744866Z",
          "iopub.execute_input": "2023-07-12T18:33:52.745678Z",
          "iopub.status.idle": "2023-07-12T18:33:52.750661Z",
          "shell.execute_reply.started": "2023-07-12T18:33:52.74564Z",
          "shell.execute_reply": "2023-07-12T18:33:52.749288Z"
        },
        "trusted": true,
        "id": "7nJGO57ba50g"
      },
      "execution_count": null,
      "outputs": []
    },
    {
      "cell_type": "code",
      "source": [
        "optimizer = optim.SGD(model.parameters(), lr = 2e-4, momentum=0.9, weight_decay=1e-4)\n",
        "num_epochs = 30"
      ],
      "metadata": {
        "execution": {
          "iopub.status.busy": "2023-07-12T18:33:53.367721Z",
          "iopub.execute_input": "2023-07-12T18:33:53.368112Z",
          "iopub.status.idle": "2023-07-12T18:33:53.376891Z",
          "shell.execute_reply.started": "2023-07-12T18:33:53.368078Z",
          "shell.execute_reply": "2023-07-12T18:33:53.375733Z"
        },
        "trusted": true,
        "id": "g3KSGKdha50g"
      },
      "execution_count": null,
      "outputs": []
    },
    {
      "cell_type": "code",
      "source": [
        "checkpoint = torch.load('/kaggle/input/pandid-trained/pandid_rcnn.t7')\n",
        "model.load_state_dict(checkpoint['state_dict'])\n",
        "optimizer.load_state_dict(checkpoint['optimizer'])\n",
        "epochs = checkpoint['epoch']"
      ],
      "metadata": {
        "execution": {
          "iopub.status.busy": "2023-07-12T18:33:54.243761Z",
          "iopub.execute_input": "2023-07-12T18:33:54.244158Z",
          "iopub.status.idle": "2023-07-12T18:33:54.724434Z",
          "shell.execute_reply.started": "2023-07-12T18:33:54.244123Z",
          "shell.execute_reply": "2023-07-12T18:33:54.723362Z"
        },
        "trusted": true,
        "id": "Y-ElX8RJa50g"
      },
      "execution_count": null,
      "outputs": []
    },
    {
      "cell_type": "code",
      "source": [
        "# for images, targets in train_dl:\n",
        "#     if str(targets[0][\"boxes\"].shape) == \"torch.Size([0])\":\n",
        "#         print(targets)\n",
        "#         break"
      ],
      "metadata": {
        "execution": {
          "iopub.status.busy": "2023-07-12T17:46:46.99443Z",
          "iopub.execute_input": "2023-07-12T17:46:46.994971Z",
          "iopub.status.idle": "2023-07-12T17:46:46.99945Z",
          "shell.execute_reply.started": "2023-07-12T17:46:46.994932Z",
          "shell.execute_reply": "2023-07-12T17:46:46.998457Z"
        },
        "trusted": true,
        "id": "fiqmL5BLa50g"
      },
      "execution_count": null,
      "outputs": []
    },
    {
      "cell_type": "code",
      "source": [
        "itr = 1\n",
        "model.to(device)\n",
        "model.train()\n",
        "for epoch in range(num_epochs):\n",
        "    epoch_loss = 0\n",
        "    for images, targets in train_dl:\n",
        "\n",
        "        images = list(image.to(device) for image in images)\n",
        "        targets = [{k: v.to(device) for k, v in t.items()} for t in targets]\n",
        "\n",
        "        loss_dict = model(images, targets)   ##Return the loss\n",
        "\n",
        "        losses = sum(loss for loss in loss_dict.values())\n",
        "        epoch_loss += losses.cpu().detach().numpy()\n",
        "        optimizer.zero_grad()\n",
        "        losses.backward()\n",
        "        optimizer.step()\n",
        "\n",
        "        if itr % 50 == 0:\n",
        "            print(f\"Iteration #{itr} loss: {loss_value}\")\n",
        "\n",
        "        itr += 1\n",
        "\n",
        "\n",
        "    print(f\"Epoch #{epoch} loss: {epoch_loss}\")"
      ],
      "metadata": {
        "execution": {
          "iopub.status.busy": "2023-07-12T17:21:14.023225Z",
          "iopub.execute_input": "2023-07-12T17:21:14.023631Z",
          "iopub.status.idle": "2023-07-12T17:46:46.992624Z",
          "shell.execute_reply.started": "2023-07-12T17:21:14.02359Z",
          "shell.execute_reply": "2023-07-12T17:46:46.99166Z"
        },
        "trusted": true,
        "id": "aMdenGvaa50g"
      },
      "execution_count": null,
      "outputs": []
    },
    {
      "cell_type": "code",
      "source": [
        "import gc\n",
        "gc.collect()\n",
        "torch.cuda.empty_cache()"
      ],
      "metadata": {
        "execution": {
          "iopub.status.busy": "2023-07-12T18:03:18.426345Z",
          "iopub.execute_input": "2023-07-12T18:03:18.427024Z",
          "iopub.status.idle": "2023-07-12T18:03:19.099661Z",
          "shell.execute_reply.started": "2023-07-12T18:03:18.426988Z",
          "shell.execute_reply": "2023-07-12T18:03:19.098488Z"
        },
        "trusted": true,
        "id": "N8M9TC2ka50h"
      },
      "execution_count": null,
      "outputs": []
    },
    {
      "cell_type": "code",
      "source": [
        "val = [df.iloc[1001].fnames]\n",
        "val_ds = pidData(val, \"/kaggle/input/pid-symbols/images (3)/\", \"/kaggle/input/pid-symbols/labels (2)/\", 320, trans = trans)\n",
        "val_dl = DataLoader(val_ds, batch_size=1, shuffle=False)"
      ],
      "metadata": {
        "execution": {
          "iopub.status.busy": "2023-07-12T18:36:30.500142Z",
          "iopub.execute_input": "2023-07-12T18:36:30.500533Z",
          "iopub.status.idle": "2023-07-12T18:36:30.508174Z",
          "shell.execute_reply.started": "2023-07-12T18:36:30.500497Z",
          "shell.execute_reply": "2023-07-12T18:36:30.507099Z"
        },
        "trusted": true,
        "id": "xFdK9f5Oa50h"
      },
      "execution_count": null,
      "outputs": []
    },
    {
      "cell_type": "code",
      "source": [
        "X, y= next(iter(val_dl))"
      ],
      "metadata": {
        "execution": {
          "iopub.status.busy": "2023-07-12T18:36:30.511046Z",
          "iopub.execute_input": "2023-07-12T18:36:30.511445Z",
          "iopub.status.idle": "2023-07-12T18:36:30.563601Z",
          "shell.execute_reply.started": "2023-07-12T18:36:30.511409Z",
          "shell.execute_reply": "2023-07-12T18:36:30.562457Z"
        },
        "trusted": true,
        "id": "KGjzEDXra50h"
      },
      "execution_count": null,
      "outputs": []
    },
    {
      "cell_type": "code",
      "source": [
        "X.shape"
      ],
      "metadata": {
        "execution": {
          "iopub.status.busy": "2023-07-12T18:36:30.565503Z",
          "iopub.execute_input": "2023-07-12T18:36:30.565939Z",
          "iopub.status.idle": "2023-07-12T18:36:30.574503Z",
          "shell.execute_reply.started": "2023-07-12T18:36:30.565897Z",
          "shell.execute_reply": "2023-07-12T18:36:30.573057Z"
        },
        "trusted": true,
        "id": "usdjAySta50h"
      },
      "execution_count": null,
      "outputs": []
    },
    {
      "cell_type": "code",
      "source": [
        "y"
      ],
      "metadata": {
        "execution": {
          "iopub.status.busy": "2023-07-12T18:36:30.576844Z",
          "iopub.execute_input": "2023-07-12T18:36:30.57742Z",
          "iopub.status.idle": "2023-07-12T18:36:30.597945Z",
          "shell.execute_reply.started": "2023-07-12T18:36:30.577381Z",
          "shell.execute_reply": "2023-07-12T18:36:30.597038Z"
        },
        "trusted": true,
        "id": "PceBwBIwa50l"
      },
      "execution_count": null,
      "outputs": []
    },
    {
      "cell_type": "code",
      "source": [
        "model.to(device)\n",
        "model.eval()\n",
        "out = model(list(X.to(device)))"
      ],
      "metadata": {
        "execution": {
          "iopub.status.busy": "2023-07-12T18:37:44.13853Z",
          "iopub.execute_input": "2023-07-12T18:37:44.138924Z",
          "iopub.status.idle": "2023-07-12T18:37:44.204718Z",
          "shell.execute_reply.started": "2023-07-12T18:37:44.138892Z",
          "shell.execute_reply": "2023-07-12T18:37:44.203748Z"
        },
        "trusted": true,
        "id": "hN3LjP7ba50l"
      },
      "execution_count": null,
      "outputs": []
    },
    {
      "cell_type": "code",
      "source": [
        "out_boxes = out[0][\"boxes\"]\n",
        "out_labels = out[0][\"labels\"]\n",
        "out_scores = out[0][\"scores\"]"
      ],
      "metadata": {
        "execution": {
          "iopub.status.busy": "2023-07-12T18:37:44.591514Z",
          "iopub.execute_input": "2023-07-12T18:37:44.591902Z",
          "iopub.status.idle": "2023-07-12T18:37:44.597117Z",
          "shell.execute_reply.started": "2023-07-12T18:37:44.591868Z",
          "shell.execute_reply": "2023-07-12T18:37:44.596086Z"
        },
        "trusted": true,
        "id": "LT4f_OXea50l"
      },
      "execution_count": null,
      "outputs": []
    },
    {
      "cell_type": "code",
      "source": [
        "out_scores"
      ],
      "metadata": {
        "execution": {
          "iopub.status.busy": "2023-07-12T18:37:45.326592Z",
          "iopub.execute_input": "2023-07-12T18:37:45.327768Z",
          "iopub.status.idle": "2023-07-12T18:37:45.340944Z",
          "shell.execute_reply.started": "2023-07-12T18:37:45.327727Z",
          "shell.execute_reply": "2023-07-12T18:37:45.339667Z"
        },
        "trusted": true,
        "id": "Ddv9x3hga50l"
      },
      "execution_count": null,
      "outputs": []
    },
    {
      "cell_type": "code",
      "source": [
        "out_boxes = out_boxes[out_scores >= 0.45].data.cpu().numpy().astype(np.int32)\n",
        "out_labels = out_labels[out_scores >= 0.45].data.cpu().numpy().astype(np.int32)"
      ],
      "metadata": {
        "execution": {
          "iopub.status.busy": "2023-07-12T18:37:51.335056Z",
          "iopub.execute_input": "2023-07-12T18:37:51.336161Z",
          "iopub.status.idle": "2023-07-12T18:37:51.342616Z",
          "shell.execute_reply.started": "2023-07-12T18:37:51.336125Z",
          "shell.execute_reply": "2023-07-12T18:37:51.341381Z"
        },
        "trusted": true,
        "id": "hzBqdTGja50l"
      },
      "execution_count": null,
      "outputs": []
    },
    {
      "cell_type": "code",
      "source": [
        "out_boxes"
      ],
      "metadata": {
        "execution": {
          "iopub.status.busy": "2023-07-12T18:37:53.943943Z",
          "iopub.execute_input": "2023-07-12T18:37:53.944631Z",
          "iopub.status.idle": "2023-07-12T18:37:53.951992Z",
          "shell.execute_reply.started": "2023-07-12T18:37:53.944597Z",
          "shell.execute_reply": "2023-07-12T18:37:53.950817Z"
        },
        "trusted": true,
        "id": "jd8SERsYa50l"
      },
      "execution_count": null,
      "outputs": []
    },
    {
      "cell_type": "code",
      "source": [
        "out_labels"
      ],
      "metadata": {
        "execution": {
          "iopub.status.busy": "2023-07-12T18:38:01.430635Z",
          "iopub.execute_input": "2023-07-12T18:38:01.431046Z",
          "iopub.status.idle": "2023-07-12T18:38:01.438448Z",
          "shell.execute_reply.started": "2023-07-12T18:38:01.430985Z",
          "shell.execute_reply": "2023-07-12T18:38:01.437179Z"
        },
        "trusted": true,
        "id": "1bQqIGv2a50l"
      },
      "execution_count": null,
      "outputs": []
    },
    {
      "cell_type": "code",
      "source": [
        "y"
      ],
      "metadata": {
        "execution": {
          "iopub.status.busy": "2023-07-12T18:38:19.780656Z",
          "iopub.execute_input": "2023-07-12T18:38:19.781063Z",
          "iopub.status.idle": "2023-07-12T18:38:19.7902Z",
          "shell.execute_reply.started": "2023-07-12T18:38:19.781004Z",
          "shell.execute_reply": "2023-07-12T18:38:19.78905Z"
        },
        "trusted": true,
        "id": "2pE75Z6Ja50m"
      },
      "execution_count": null,
      "outputs": []
    },
    {
      "cell_type": "code",
      "source": [
        "og_boxes  = y[\"boxes\"].squeeze().data.cpu().numpy().astype(np.int32)\n",
        "og_labels  = y[\"labels\"].squeeze().data.cpu().numpy().astype(np.int32)"
      ],
      "metadata": {
        "execution": {
          "iopub.status.busy": "2023-07-12T18:38:20.851513Z",
          "iopub.execute_input": "2023-07-12T18:38:20.851897Z",
          "iopub.status.idle": "2023-07-12T18:38:20.85814Z",
          "shell.execute_reply.started": "2023-07-12T18:38:20.851864Z",
          "shell.execute_reply": "2023-07-12T18:38:20.857048Z"
        },
        "trusted": true,
        "id": "3QvaqTfqa50m"
      },
      "execution_count": null,
      "outputs": []
    },
    {
      "cell_type": "code",
      "source": [
        "og_boxes"
      ],
      "metadata": {
        "execution": {
          "iopub.status.busy": "2023-07-12T18:38:21.197161Z",
          "iopub.execute_input": "2023-07-12T18:38:21.197545Z",
          "iopub.status.idle": "2023-07-12T18:38:21.208165Z",
          "shell.execute_reply.started": "2023-07-12T18:38:21.197512Z",
          "shell.execute_reply": "2023-07-12T18:38:21.206873Z"
        },
        "trusted": true,
        "id": "D4aPdnuQa50m"
      },
      "execution_count": null,
      "outputs": []
    },
    {
      "cell_type": "code",
      "source": [
        "def generate_color_map(num_classes):\n",
        "    colors = []\n",
        "    for i in range(num_classes):\n",
        "        hue = i / num_classes\n",
        "        rgb = plt.cm.hsv(hue)[:3]\n",
        "        colors.append(tuple(np.array(rgb) * 255))\n",
        "    return colors\n",
        "\n",
        "num_classes = 33\n",
        "class_colors = generate_color_map(num_classes)\n",
        "\n",
        "\n",
        "fig, ax = plt.subplots()\n",
        "\n",
        "image = X[0].permute(1, 2, 0).detach().numpy()\n",
        "image_with_rect = image.copy()\n",
        "for x, label in zip(out_boxes, out_labels):\n",
        "    x_min, y_min, x_max, y_max = x\n",
        "    color = class_colors[label.item()]\n",
        "    color = tuple(c / 255.0 for c in color)\n",
        "    cv2.rectangle(image_with_rect, (x_min, y_min), (x_max, y_max), color, 1)\n",
        "\n",
        "    text = f\"Class: {label.item()}\"\n",
        "    ax.text(x_min, y_min - 5, text, color='white', fontsize=8, weight='bold',\n",
        "            bbox=dict(facecolor=color, edgecolor=color, pad=0, alpha=0.7))\n",
        "\n",
        "ax.imshow(image_with_rect)\n",
        "plt.axis('off')\n",
        "plt.show()"
      ],
      "metadata": {
        "execution": {
          "iopub.status.busy": "2023-07-12T18:38:23.054766Z",
          "iopub.execute_input": "2023-07-12T18:38:23.055192Z",
          "iopub.status.idle": "2023-07-12T18:38:23.240153Z",
          "shell.execute_reply.started": "2023-07-12T18:38:23.055158Z",
          "shell.execute_reply": "2023-07-12T18:38:23.239071Z"
        },
        "jupyter": {
          "source_hidden": true
        },
        "trusted": true,
        "id": "mpxxRK59a50m"
      },
      "execution_count": null,
      "outputs": []
    },
    {
      "cell_type": "code",
      "source": [
        "fig, ax = plt.subplots()\n",
        "\n",
        "image = X[0].permute(1, 2, 0).detach().numpy()\n",
        "image_with_rect = image.copy()\n",
        "for x, label in zip(og_boxes, og_labels):\n",
        "    x_min, y_min, x_max, y_max = x\n",
        "    color = class_colors[label.item()]\n",
        "    color = tuple(c / 255.0 for c in color)\n",
        "    cv2.rectangle(image_with_rect, (x_min, y_min), (x_max, y_max), color, 1)\n",
        "\n",
        "    text = f\"Class: {label.item()}\"\n",
        "    ax.text(x_min, y_min - 5, text, color='white', fontsize=8, weight='bold',\n",
        "            bbox=dict(facecolor=color, edgecolor=color, pad=0, alpha=0.7))\n",
        "\n",
        "ax.imshow(image_with_rect)\n",
        "plt.axis('off')\n",
        "plt.show()"
      ],
      "metadata": {
        "execution": {
          "iopub.status.busy": "2023-07-12T18:38:44.70418Z",
          "iopub.execute_input": "2023-07-12T18:38:44.704554Z",
          "iopub.status.idle": "2023-07-12T18:38:44.854516Z",
          "shell.execute_reply.started": "2023-07-12T18:38:44.704522Z",
          "shell.execute_reply": "2023-07-12T18:38:44.85282Z"
        },
        "jupyter": {
          "source_hidden": true
        },
        "trusted": true,
        "id": "9VP5stCHa50m"
      },
      "execution_count": null,
      "outputs": []
    },
    {
      "cell_type": "code",
      "source": [
        "state = {\n",
        "        'epoch': num_epochs,\n",
        "        'state_dict': model.state_dict(),\n",
        "        'optimizer': optimizer.state_dict()\n",
        "        }\n",
        "savepath = './pandid_rcnn.t7'\n",
        "torch.save(state,savepath)"
      ],
      "metadata": {
        "execution": {
          "iopub.status.busy": "2023-07-12T18:13:33.888383Z",
          "iopub.execute_input": "2023-07-12T18:13:33.889507Z",
          "iopub.status.idle": "2023-07-12T18:13:34.684215Z",
          "shell.execute_reply.started": "2023-07-12T18:13:33.889462Z",
          "shell.execute_reply": "2023-07-12T18:13:34.68273Z"
        },
        "trusted": true,
        "id": "3PpxX0LEa50m"
      },
      "execution_count": null,
      "outputs": []
    },
    {
      "cell_type": "code",
      "source": [
        "# fig, ax = plt.subplots()\n",
        "# image = X[0].permute(1, 2, 0).detach().numpy()\n",
        "# image_with_rect = image.copy()\n",
        "\n",
        "# for x in out_boxes:\n",
        "#     cv2.rectangle(image_with_rect, (x[0], x[1]), (x[2], x[3]), (222, 0, 0), 1)\n",
        "\n",
        "# ax.imshow(image_with_rect)\n",
        "# plt.show()"
      ],
      "metadata": {
        "execution": {
          "iopub.status.busy": "2023-07-12T18:09:57.243756Z",
          "iopub.execute_input": "2023-07-12T18:09:57.244109Z",
          "iopub.status.idle": "2023-07-12T18:09:57.248849Z",
          "shell.execute_reply.started": "2023-07-12T18:09:57.244078Z",
          "shell.execute_reply": "2023-07-12T18:09:57.247468Z"
        },
        "jupyter": {
          "source_hidden": true
        },
        "trusted": true,
        "id": "CnXa4Vcaa50n"
      },
      "execution_count": null,
      "outputs": []
    },
    {
      "cell_type": "code",
      "source": [],
      "metadata": {
        "id": "9FlHCeq8a50n"
      },
      "execution_count": null,
      "outputs": []
    }
  ]
}